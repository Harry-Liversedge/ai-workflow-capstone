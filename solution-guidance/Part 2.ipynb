{
 "cells": [
  {
   "cell_type": "code",
   "execution_count": 46,
   "id": "2ae063fb",
   "metadata": {},
   "outputs": [],
   "source": [
    "from cslib import fetch_data, convert_to_ts, engineer_features\n",
    "import time\n",
    "import os\n",
    "import seaborn as sns\n",
    "from sklearn.model_selection import train_test_split\n",
    "from sklearn.ensemble import RandomForestRegressor\n",
    "from sklearn.pipeline import Pipeline\n",
    "from sklearn.feature_selection import SelectKBest\n",
    "from sklearn.metrics import median_absolute_error, r2_score\n",
    "from sklearn.preprocessing import StandardScaler\n",
    "from sklearn.datasets import load_boston"
   ]
  },
  {
   "cell_type": "markdown",
   "id": "326c164a",
   "metadata": {},
   "source": [
    "# Model building and selection\n",
    "\n",
    "Tasks:\n",
    "* State the different modeling approaches that you will compare to address the business opportunity.\n",
    "* Iterate on your suite of possible models by modifying data transformations, pipeline architectures, hyperparameters and other relevant factors.\n",
    "* Re-train your model on all of the data using the selected approach and prepare it for deployment.\n",
    "* Articulate your findings in a summary report.\n",
    "\n",
    "**Model should predict the next 30 days for any given point in time. For supervised learning, the total revenue over the next thirty days can be represented as a single number.**"
   ]
  },
  {
   "cell_type": "code",
   "execution_count": 3,
   "id": "94513994",
   "metadata": {},
   "outputs": [
    {
     "name": "stdout",
     "output_type": "stream",
     "text": [
      "...fetching data\n",
      "load time: 0:00:08\n"
     ]
    },
    {
     "data": {
      "text/html": [
       "<div>\n",
       "<style scoped>\n",
       "    .dataframe tbody tr th:only-of-type {\n",
       "        vertical-align: middle;\n",
       "    }\n",
       "\n",
       "    .dataframe tbody tr th {\n",
       "        vertical-align: top;\n",
       "    }\n",
       "\n",
       "    .dataframe thead th {\n",
       "        text-align: right;\n",
       "    }\n",
       "</style>\n",
       "<table border=\"1\" class=\"dataframe\">\n",
       "  <thead>\n",
       "    <tr style=\"text-align: right;\">\n",
       "      <th></th>\n",
       "      <th>country</th>\n",
       "      <th>customer_id</th>\n",
       "      <th>day</th>\n",
       "      <th>invoice</th>\n",
       "      <th>month</th>\n",
       "      <th>price</th>\n",
       "      <th>stream_id</th>\n",
       "      <th>times_viewed</th>\n",
       "      <th>year</th>\n",
       "      <th>invoice_date</th>\n",
       "    </tr>\n",
       "  </thead>\n",
       "  <tbody>\n",
       "    <tr>\n",
       "      <th>0</th>\n",
       "      <td>United Kingdom</td>\n",
       "      <td>17998.0</td>\n",
       "      <td>28</td>\n",
       "      <td>489562</td>\n",
       "      <td>11</td>\n",
       "      <td>5.95</td>\n",
       "      <td>84656</td>\n",
       "      <td>1</td>\n",
       "      <td>2017</td>\n",
       "      <td>2017-11-28</td>\n",
       "    </tr>\n",
       "    <tr>\n",
       "      <th>1</th>\n",
       "      <td>United Kingdom</td>\n",
       "      <td>13085.0</td>\n",
       "      <td>28</td>\n",
       "      <td>489434</td>\n",
       "      <td>11</td>\n",
       "      <td>6.75</td>\n",
       "      <td>79323W</td>\n",
       "      <td>12</td>\n",
       "      <td>2017</td>\n",
       "      <td>2017-11-28</td>\n",
       "    </tr>\n",
       "    <tr>\n",
       "      <th>2</th>\n",
       "      <td>United Kingdom</td>\n",
       "      <td>13085.0</td>\n",
       "      <td>28</td>\n",
       "      <td>489434</td>\n",
       "      <td>11</td>\n",
       "      <td>2.10</td>\n",
       "      <td>22041</td>\n",
       "      <td>21</td>\n",
       "      <td>2017</td>\n",
       "      <td>2017-11-28</td>\n",
       "    </tr>\n",
       "    <tr>\n",
       "      <th>3</th>\n",
       "      <td>United Kingdom</td>\n",
       "      <td>13085.0</td>\n",
       "      <td>28</td>\n",
       "      <td>489434</td>\n",
       "      <td>11</td>\n",
       "      <td>1.25</td>\n",
       "      <td>21232</td>\n",
       "      <td>5</td>\n",
       "      <td>2017</td>\n",
       "      <td>2017-11-28</td>\n",
       "    </tr>\n",
       "    <tr>\n",
       "      <th>4</th>\n",
       "      <td>United Kingdom</td>\n",
       "      <td>13085.0</td>\n",
       "      <td>28</td>\n",
       "      <td>489434</td>\n",
       "      <td>11</td>\n",
       "      <td>1.65</td>\n",
       "      <td>22064</td>\n",
       "      <td>17</td>\n",
       "      <td>2017</td>\n",
       "      <td>2017-11-28</td>\n",
       "    </tr>\n",
       "  </tbody>\n",
       "</table>\n",
       "</div>"
      ],
      "text/plain": [
       "          country  customer_id  day invoice  month  price stream_id  \\\n",
       "0  United Kingdom      17998.0   28  489562     11   5.95     84656   \n",
       "1  United Kingdom      13085.0   28  489434     11   6.75    79323W   \n",
       "2  United Kingdom      13085.0   28  489434     11   2.10     22041   \n",
       "3  United Kingdom      13085.0   28  489434     11   1.25     21232   \n",
       "4  United Kingdom      13085.0   28  489434     11   1.65     22064   \n",
       "\n",
       "   times_viewed  year invoice_date  \n",
       "0             1  2017   2017-11-28  \n",
       "1            12  2017   2017-11-28  \n",
       "2            21  2017   2017-11-28  \n",
       "3             5  2017   2017-11-28  \n",
       "4            17  2017   2017-11-28  "
      ]
     },
     "execution_count": 3,
     "metadata": {},
     "output_type": "execute_result"
    }
   ],
   "source": [
    "# Setup the initial variables\n",
    "run_start = time.time() \n",
    "data_dir = os.path.join(\"..\",\"cs-train\")\n",
    "print(\"...fetching data\")\n",
    "\n",
    "# Fetching data may take a few seconds\n",
    "df = fetch_data(data_dir)\n",
    "\n",
    "# Calculate time taken and display\n",
    "m, s = divmod(time.time()-run_start,60)\n",
    "h, m = divmod(m, 60)\n",
    "print(\"load time:\", \"%d:%02d:%02d\"%(h, m, s))\n",
    "\n",
    "# Print the data\n",
    "df.head()"
   ]
  },
  {
   "cell_type": "markdown",
   "id": "7b033db0",
   "metadata": {},
   "source": [
    "## Models to investigate\n",
    "\n",
    "I will investigate the ability of a random forest algorithm to predict revenue.\n",
    "\n",
    "## Feature Extraction\n",
    "\n",
    "Initially we need to obtain the data in a form that we can use in a model."
   ]
  },
  {
   "cell_type": "code",
   "execution_count": 54,
   "id": "8c24e8b7",
   "metadata": {},
   "outputs": [
    {
     "data": {
      "text/plain": [
       "country              0\n",
       "customer_id     189762\n",
       "day                  0\n",
       "invoice              0\n",
       "month                0\n",
       "price                0\n",
       "stream_id            0\n",
       "times_viewed         0\n",
       "year                 0\n",
       "invoice_date         0\n",
       "dtype: int64"
      ]
     },
     "execution_count": 54,
     "metadata": {},
     "output_type": "execute_result"
    }
   ],
   "source": [
    "# Look at which features have most missing values\n",
    "df.isna().sum()"
   ]
  },
  {
   "cell_type": "code",
   "execution_count": 40,
   "id": "bd33b42c",
   "metadata": {},
   "outputs": [
    {
     "data": {
      "text/html": [
       "<div>\n",
       "<style scoped>\n",
       "    .dataframe tbody tr th:only-of-type {\n",
       "        vertical-align: middle;\n",
       "    }\n",
       "\n",
       "    .dataframe tbody tr th {\n",
       "        vertical-align: top;\n",
       "    }\n",
       "\n",
       "    .dataframe thead th {\n",
       "        text-align: right;\n",
       "    }\n",
       "</style>\n",
       "<table border=\"1\" class=\"dataframe\">\n",
       "  <thead>\n",
       "    <tr style=\"text-align: right;\">\n",
       "      <th></th>\n",
       "      <th>date</th>\n",
       "      <th>purchases</th>\n",
       "      <th>unique_invoices</th>\n",
       "      <th>unique_streams</th>\n",
       "      <th>total_views</th>\n",
       "      <th>year_month</th>\n",
       "      <th>revenue</th>\n",
       "    </tr>\n",
       "  </thead>\n",
       "  <tbody>\n",
       "    <tr>\n",
       "      <th>0</th>\n",
       "      <td>2017-11-01</td>\n",
       "      <td>0</td>\n",
       "      <td>0</td>\n",
       "      <td>0</td>\n",
       "      <td>0</td>\n",
       "      <td>2017-11</td>\n",
       "      <td>0.0</td>\n",
       "    </tr>\n",
       "    <tr>\n",
       "      <th>1</th>\n",
       "      <td>2017-11-02</td>\n",
       "      <td>0</td>\n",
       "      <td>0</td>\n",
       "      <td>0</td>\n",
       "      <td>0</td>\n",
       "      <td>2017-11</td>\n",
       "      <td>0.0</td>\n",
       "    </tr>\n",
       "    <tr>\n",
       "      <th>2</th>\n",
       "      <td>2017-11-03</td>\n",
       "      <td>0</td>\n",
       "      <td>0</td>\n",
       "      <td>0</td>\n",
       "      <td>0</td>\n",
       "      <td>2017-11</td>\n",
       "      <td>0.0</td>\n",
       "    </tr>\n",
       "    <tr>\n",
       "      <th>3</th>\n",
       "      <td>2017-11-04</td>\n",
       "      <td>0</td>\n",
       "      <td>0</td>\n",
       "      <td>0</td>\n",
       "      <td>0</td>\n",
       "      <td>2017-11</td>\n",
       "      <td>0.0</td>\n",
       "    </tr>\n",
       "    <tr>\n",
       "      <th>4</th>\n",
       "      <td>2017-11-05</td>\n",
       "      <td>0</td>\n",
       "      <td>0</td>\n",
       "      <td>0</td>\n",
       "      <td>0</td>\n",
       "      <td>2017-11</td>\n",
       "      <td>0.0</td>\n",
       "    </tr>\n",
       "  </tbody>\n",
       "</table>\n",
       "</div>"
      ],
      "text/plain": [
       "        date  purchases  unique_invoices  unique_streams  total_views  \\\n",
       "0 2017-11-01          0                0               0            0   \n",
       "1 2017-11-02          0                0               0            0   \n",
       "2 2017-11-03          0                0               0            0   \n",
       "3 2017-11-04          0                0               0            0   \n",
       "4 2017-11-05          0                0               0            0   \n",
       "\n",
       "  year_month  revenue  \n",
       "0    2017-11      0.0  \n",
       "1    2017-11      0.0  \n",
       "2    2017-11      0.0  \n",
       "3    2017-11      0.0  \n",
       "4    2017-11      0.0  "
      ]
     },
     "execution_count": 40,
     "metadata": {},
     "output_type": "execute_result"
    }
   ],
   "source": [
    "# Convert the dataframe to a timeseries\n",
    "ts = convert_to_ts(df)\n",
    "ts.head()"
   ]
  },
  {
   "cell_type": "code",
   "execution_count": 41,
   "id": "78a877a6",
   "metadata": {},
   "outputs": [],
   "source": [
    "# Create new features for training\n",
    "(X, y, dates) = engineer_features(ts)"
   ]
  },
  {
   "cell_type": "code",
   "execution_count": 42,
   "id": "672633ad",
   "metadata": {},
   "outputs": [
    {
     "data": {
      "text/html": [
       "<div>\n",
       "<style scoped>\n",
       "    .dataframe tbody tr th:only-of-type {\n",
       "        vertical-align: middle;\n",
       "    }\n",
       "\n",
       "    .dataframe tbody tr th {\n",
       "        vertical-align: top;\n",
       "    }\n",
       "\n",
       "    .dataframe thead th {\n",
       "        text-align: right;\n",
       "    }\n",
       "</style>\n",
       "<table border=\"1\" class=\"dataframe\">\n",
       "  <thead>\n",
       "    <tr style=\"text-align: right;\">\n",
       "      <th></th>\n",
       "      <th>previous_7</th>\n",
       "      <th>previous_14</th>\n",
       "      <th>previous_28</th>\n",
       "      <th>previous_70</th>\n",
       "      <th>previous_year</th>\n",
       "      <th>recent_invoices</th>\n",
       "      <th>recent_views</th>\n",
       "    </tr>\n",
       "  </thead>\n",
       "  <tbody>\n",
       "    <tr>\n",
       "      <th>0</th>\n",
       "      <td>14450.54</td>\n",
       "      <td>14450.54</td>\n",
       "      <td>14450.54</td>\n",
       "      <td>14450.54</td>\n",
       "      <td>0.0</td>\n",
       "      <td>5.928571</td>\n",
       "      <td>537.392857</td>\n",
       "    </tr>\n",
       "    <tr>\n",
       "      <th>1</th>\n",
       "      <td>27862.50</td>\n",
       "      <td>27862.50</td>\n",
       "      <td>27862.50</td>\n",
       "      <td>27862.50</td>\n",
       "      <td>0.0</td>\n",
       "      <td>10.310345</td>\n",
       "      <td>1007.103448</td>\n",
       "    </tr>\n",
       "    <tr>\n",
       "      <th>2</th>\n",
       "      <td>41152.75</td>\n",
       "      <td>41152.75</td>\n",
       "      <td>41152.75</td>\n",
       "      <td>41152.75</td>\n",
       "      <td>0.0</td>\n",
       "      <td>14.966667</td>\n",
       "      <td>1499.066667</td>\n",
       "    </tr>\n",
       "    <tr>\n",
       "      <th>3</th>\n",
       "      <td>50840.03</td>\n",
       "      <td>50840.03</td>\n",
       "      <td>50840.03</td>\n",
       "      <td>50840.03</td>\n",
       "      <td>0.0</td>\n",
       "      <td>18.533333</td>\n",
       "      <td>1916.533333</td>\n",
       "    </tr>\n",
       "    <tr>\n",
       "      <th>4</th>\n",
       "      <td>52283.29</td>\n",
       "      <td>52283.29</td>\n",
       "      <td>52283.29</td>\n",
       "      <td>52283.29</td>\n",
       "      <td>0.0</td>\n",
       "      <td>19.600000</td>\n",
       "      <td>2026.966667</td>\n",
       "    </tr>\n",
       "  </tbody>\n",
       "</table>\n",
       "</div>"
      ],
      "text/plain": [
       "   previous_7  previous_14  previous_28  previous_70  previous_year  \\\n",
       "0    14450.54     14450.54     14450.54     14450.54            0.0   \n",
       "1    27862.50     27862.50     27862.50     27862.50            0.0   \n",
       "2    41152.75     41152.75     41152.75     41152.75            0.0   \n",
       "3    50840.03     50840.03     50840.03     50840.03            0.0   \n",
       "4    52283.29     52283.29     52283.29     52283.29            0.0   \n",
       "\n",
       "   recent_invoices  recent_views  \n",
       "0         5.928571    537.392857  \n",
       "1        10.310345   1007.103448  \n",
       "2        14.966667   1499.066667  \n",
       "3        18.533333   1916.533333  \n",
       "4        19.600000   2026.966667  "
      ]
     },
     "execution_count": 42,
     "metadata": {},
     "output_type": "execute_result"
    }
   ],
   "source": [
    "# The feature data\n",
    "X.head()"
   ]
  },
  {
   "cell_type": "code",
   "execution_count": 43,
   "id": "2cbe72f8",
   "metadata": {},
   "outputs": [
    {
     "data": {
      "text/plain": [
       "array([183857.22, 170445.26, 157155.01, 147467.73, 147991.02])"
      ]
     },
     "execution_count": 43,
     "metadata": {},
     "output_type": "execute_result"
    }
   ],
   "source": [
    "# The response data\n",
    "y[0:5]"
   ]
  },
  {
   "cell_type": "code",
   "execution_count": 44,
   "id": "e57995c9",
   "metadata": {},
   "outputs": [
    {
     "data": {
      "text/plain": [
       "array(['2017-11-29', '2017-11-30', '2017-12-01', '2017-12-02',\n",
       "       '2017-12-03'], dtype='datetime64[D]')"
      ]
     },
     "execution_count": 44,
     "metadata": {},
     "output_type": "execute_result"
    }
   ],
   "source": [
    "# The dates\n",
    "dates[0:5]"
   ]
  },
  {
   "cell_type": "code",
   "execution_count": 55,
   "id": "17176259",
   "metadata": {},
   "outputs": [
    {
     "data": {
      "image/png": "[encoded data removed]",
      "text/plain": [
       "<Figure size 842.4x595.44 with 1 Axes>"
      ]
     },
     "metadata": {},
     "output_type": "display_data"
    }
   ],
   "source": [
    "sns.set(rc={'figure.figsize':(11.7,8.27)})\n",
    "g = sns.lineplot(data=ts, x='date', y='revenue')"
   ]
  },
  {
   "cell_type": "markdown",
   "id": "c2cf1368",
   "metadata": {},
   "source": [
    "## Random Forest\n",
    "\n",
    "Having extracted the features we can now construct a pipeline for this data."
   ]
  },
  {
   "cell_type": "code",
   "execution_count": 47,
   "id": "47b38ad2",
   "metadata": {},
   "outputs": [],
   "source": [
    "# Create a train / test split\n",
    "X_train, X_test, y_train, y_test = train_test_split(X, y, random_state=0)"
   ]
  },
  {
   "cell_type": "code",
   "execution_count": 49,
   "id": "188c6f05",
   "metadata": {},
   "outputs": [
    {
     "name": "stdout",
     "output_type": "stream",
     "text": [
      "R^2=0.94, MAE=8328.06\n"
     ]
    }
   ],
   "source": [
    "# Create a random forest pipeline\n",
    "pipe = Pipeline([(\"scaler\", StandardScaler()),\n",
    "                 (\"rf\", RandomForestRegressor(n_estimators=20))])\n",
    "\n",
    "## train on the training data\n",
    "pipe.fit(X_train, y_train)\n",
    "\n",
    "## evaluate the model with the test data\n",
    "y_pred = pipe.predict(X_test)\n",
    "print(r'R^2=%.2f, MAE=%.2f'%(r2_score(y_test, y_pred), median_absolute_error(y_test, y_pred)))"
   ]
  },
  {
   "cell_type": "markdown",
   "id": "69e10eca",
   "metadata": {},
   "source": [
    "Just by applying a simple random forest regressor we seem to already be getting an R^2 value of 0.94 which is promising and leads us to want to see if we can do even better."
   ]
  }
 ],
 "metadata": {
  "kernelspec": {
   "display_name": "Python 3",
   "language": "python",
   "name": "python3"
  },
  "language_info": {
   "codemirror_mode": {
    "name": "ipython",
    "version": 3
   },
   "file_extension": ".py",
   "mimetype": "text/x-python",
   "name": "python",
   "nbconvert_exporter": "python",
   "pygments_lexer": "ipython3",
   "version": "3.8.8"
  }
 },
 "nbformat": 4,
 "nbformat_minor": 5
}
